{
  "nbformat": 4,
  "nbformat_minor": 0,
  "metadata": {
    "colab": {
      "name": "olist_project 3.ipynb",
      "provenance": [],
      "collapsed_sections": [],
      "authorship_tag": "ABX9TyOKb38bDOF6imL+qa4nOKHY",
      "include_colab_link": true
    },
    "kernelspec": {
      "name": "python3",
      "display_name": "Python 3"
    },
    "language_info": {
      "name": "python"
    }
  },
  "cells": [
    {
      "cell_type": "markdown",
      "metadata": {
        "id": "view-in-github",
        "colab_type": "text"
      },
      "source": [
        "<a href=\"https://colab.research.google.com/github/jona-lu/olist_project/blob/main/olist_project_3.ipynb\" target=\"_parent\"><img src=\"https://colab.research.google.com/assets/colab-badge.svg\" alt=\"Open In Colab\"/></a>"
      ]
    },
    {
      "cell_type": "code",
      "execution_count": null,
      "metadata": {
        "id": "YBTtORSgslOu",
        "colab": {
          "base_uri": "https://localhost:8080/"
        },
        "outputId": "93a937c7-8937-4e81-c6bf-595bf5c2333a"
      },
      "outputs": [
        {
          "output_type": "stream",
          "name": "stdout",
          "text": [
            "/content\n"
          ]
        }
      ],
      "source": [
        "import numpy as np \n",
        "import pandas as pd\n",
        "import os \n",
        "import matplotlib.pyplot as plt\n",
        "working_directory=os.getcwd()\n",
        "print(working_directory)"
      ]
    },
    {
      "cell_type": "markdown",
      "source": [
        "# New Section"
      ],
      "metadata": {
        "id": "0tMZkJjU5kXn"
      }
    },
    {
      "cell_type": "code",
      "source": [
        "path=working_directory+'/sample_data/olist_customers_dataset.csv'\n",
        "path1=working_directory+'/sample_data/olist_geolocation_dataset.csv'\n",
        "path2=working_directory+'/sample_data/olist_order_items_dataset.csv'\n",
        "path3=working_directory+'/sample_data/olist_order_payments_dataset.csv'\n",
        "path4=working_directory+'/sample_data/olist_order_reviews_dataset.csv'\n",
        "path5=working_directory+'/sample_data/olist_orders_dataset.csv'\n",
        "path6=working_directory+'/sample_data/olist_products_dataset.csv'\n",
        "path7=working_directory+'/sample_data/olist_sellers_dataset.csv'\n",
        "path8=working_directory+'/sample_data/product_category_name_translation.csv'\n",
        "\n",
        "olist_customers_dataset=pd.read_csv(path)\n",
        "olist_geolocation_dataset=pd.read_csv(path1)\n",
        "olist_order_items_dataset=pd.read_csv(path2)\n",
        "olist_order_payments_dataset=pd.read_csv(path3)\n",
        "olist_order_reviews_dataset=pd.read_csv(path4)\n",
        "olist_orders_dataset=pd.read_csv(path5)\n",
        "olist_products_dataset=pd.read_csv(path6)\n",
        "olist_sellers_dataset=pd.read_csv(path7)\n",
        "product_category_name_translation=pd.read_csv(path8)"
      ],
      "metadata": {
        "id": "h0JcBS7K8IKH"
      },
      "execution_count": null,
      "outputs": []
    },
    {
      "cell_type": "code",
      "source": [
        "olist_orders_dataset = olist_orders_dataset.dropna()\n",
        "olist_products_dataset= olist_products_dataset.dropna()\n",
        "data=pd.merge(olist_orders_dataset,olist_order_items_dataset,how='inner',on=['order_id'])\n",
        "data=pd.merge(data,olist_order_payments_dataset,how='inner',on=['order_id'])\n",
        "data=pd.merge(data,olist_order_reviews_dataset,how='inner',on=['order_id'])\n",
        "data=pd.merge(data,olist_customers_dataset,how='inner',on=['customer_id'])\n",
        "data=pd.merge(data,olist_products_dataset,how='left',on=['product_id'])\n",
        "data=pd.merge(data,product_category_name_translation,how='left',on=['product_category_name'])"
      ],
      "metadata": {
        "id": "v192oWzi_YsH"
      },
      "execution_count": null,
      "outputs": []
    },
    {
      "cell_type": "code",
      "source": [
        "import datetime\n",
        "data['order_approved_at']=pd.to_datetime(data.loc[:,'order_approved_at'])\n",
        "data[\"order_purchase_timestamp\"] = pd.to_datetime(data[\"order_purchase_timestamp\"])\n",
        "data[\"order_delivered_carrier_date\"] = pd.to_datetime(data[\"order_delivered_carrier_date\"])\n",
        "data['order_delivered_customer_date']=pd.to_datetime(data['order_delivered_customer_date'])\n",
        "data['order_estimated_delivery_date']=pd.to_datetime(data['order_estimated_delivery_date'])\n",
        "data['shipping_limit_date']=pd.to_datetime(data['shipping_limit_date'])\n",
        "data['lead_time_po_approved']=(data['order_approved_at']-data['order_purchase_timestamp'])\n",
        "data['lead_time_po_approved']=data['lead_time_po_approved']/np.timedelta64(1,'D') ##this is the key to turn into numeric days\n",
        "\n",
        "data['lead_time_po_customer']=(data['order_delivered_carrier_date']-data['order_purchase_timestamp'])\n",
        "data['lead_time_po_customer']=data['lead_time_po_customer']/np.timedelta64(1,'D') ##this is the key to turn into numeric days\n",
        "\n",
        "data['promosied_actual']=(data['order_estimated_delivery_date']-data['order_delivered_customer_date'])\n",
        "data['promosied_actual']=data['promosied_actual']/np.timedelta64(1,'D') ##this is the key to turn into numeric days\n",
        "\n",
        "data['order_year']=pd.DatetimeIndex(data['order_purchase_timestamp']).year\n",
        "data['order_month'] = pd.DatetimeIndex(data['order_purchase_timestamp']).month\n",
        "data"
      ],
      "metadata": {
        "colab": {
          "base_uri": "https://localhost:8080/",
          "height": 483
        },
        "id": "viFrSxQY_eTj",
        "outputId": "177b71c9-b550-4840-fdd6-c6ff4ce9b49e"
      },
      "execution_count": null,
      "outputs": [
        {
          "output_type": "execute_result",
          "data": {
            "text/plain": [
              "                                order_id                       customer_id  \\\n",
              "0       e481f51cbdc54678b7cc49136f2d6af7  9ef432eb6251297304e76186b10a928d   \n",
              "1       e481f51cbdc54678b7cc49136f2d6af7  9ef432eb6251297304e76186b10a928d   \n",
              "2       e481f51cbdc54678b7cc49136f2d6af7  9ef432eb6251297304e76186b10a928d   \n",
              "3       53cdb2fc8bc7dce0b6741e2150273451  b0830fb4747a6c6d20dea0b8c802d7ef   \n",
              "4       47770eb9100c2d0c44946d9cf07ec65d  41ce2a54c0b03bf3443c3d931a367089   \n",
              "...                                  ...                               ...   \n",
              "114837  63943bddc261676b46f01ca7ac2f7bd8  1fca14ff2861355f6e5f14306ff977a7   \n",
              "114838  83c1379a015df1e13d02aae0204711ab  1aa71eb042121263aafbe80c1b562c9c   \n",
              "114839  11c177c8e97725db2631073c19f07b62  b331b74b18dc79bcdf6532d51e1637c1   \n",
              "114840  11c177c8e97725db2631073c19f07b62  b331b74b18dc79bcdf6532d51e1637c1   \n",
              "114841  66dea50a8b16d9b4dee7af250b4be1a5  edb027a75a1449115f6b43211ae02a24   \n",
              "\n",
              "       order_status order_purchase_timestamp   order_approved_at  \\\n",
              "0         delivered      2017-10-02 10:56:33 2017-10-02 11:07:15   \n",
              "1         delivered      2017-10-02 10:56:33 2017-10-02 11:07:15   \n",
              "2         delivered      2017-10-02 10:56:33 2017-10-02 11:07:15   \n",
              "3         delivered      2018-07-24 20:41:37 2018-07-26 03:24:27   \n",
              "4         delivered      2018-08-08 08:38:49 2018-08-08 08:55:23   \n",
              "...             ...                      ...                 ...   \n",
              "114837    delivered      2018-02-06 12:58:58 2018-02-06 13:10:37   \n",
              "114838    delivered      2017-08-27 14:46:43 2017-08-27 15:04:16   \n",
              "114839    delivered      2018-01-08 21:28:27 2018-01-08 21:36:21   \n",
              "114840    delivered      2018-01-08 21:28:27 2018-01-08 21:36:21   \n",
              "114841    delivered      2018-03-08 20:57:30 2018-03-09 11:20:28   \n",
              "\n",
              "       order_delivered_carrier_date order_delivered_customer_date  \\\n",
              "0               2017-10-04 19:55:00           2017-10-10 21:25:13   \n",
              "1               2017-10-04 19:55:00           2017-10-10 21:25:13   \n",
              "2               2017-10-04 19:55:00           2017-10-10 21:25:13   \n",
              "3               2018-07-26 14:31:00           2018-08-07 15:27:45   \n",
              "4               2018-08-08 13:50:00           2018-08-17 18:06:29   \n",
              "...                             ...                           ...   \n",
              "114837          2018-02-07 23:22:42           2018-02-28 17:37:56   \n",
              "114838          2017-08-28 20:52:26           2017-09-21 11:24:17   \n",
              "114839          2018-01-12 15:35:03           2018-01-25 23:32:54   \n",
              "114840          2018-01-12 15:35:03           2018-01-25 23:32:54   \n",
              "114841          2018-03-09 22:11:59           2018-03-16 13:08:30   \n",
              "\n",
              "       order_estimated_delivery_date  order_item_id  \\\n",
              "0                         2017-10-18              1   \n",
              "1                         2017-10-18              1   \n",
              "2                         2017-10-18              1   \n",
              "3                         2018-08-13              1   \n",
              "4                         2018-09-04              1   \n",
              "...                              ...            ...   \n",
              "114837                    2018-03-02              1   \n",
              "114838                    2017-09-27              1   \n",
              "114839                    2018-02-15              1   \n",
              "114840                    2018-02-15              2   \n",
              "114841                    2018-04-03              1   \n",
              "\n",
              "                              product_id  ... product_weight_g  \\\n",
              "0       87285b34884572647811a353c7ac498a  ...            500.0   \n",
              "1       87285b34884572647811a353c7ac498a  ...            500.0   \n",
              "2       87285b34884572647811a353c7ac498a  ...            500.0   \n",
              "3       595fac2a385ac33a80bd5114aec74eb8  ...            400.0   \n",
              "4       aa4383b373c6aca5d8797843e5594415  ...            420.0   \n",
              "...                                  ...  ...              ...   \n",
              "114837  f1d4ce8c6dd66c47bbaa8c6781c2a923  ...           4950.0   \n",
              "114838  b80910977a37536adeddd63663f916ad  ...          13300.0   \n",
              "114839  d1c427060a0f73f6b889a5c7c61f2ac4  ...           6550.0   \n",
              "114840  d1c427060a0f73f6b889a5c7c61f2ac4  ...           6550.0   \n",
              "114841  006619bbed68b000c8ba3f8725d5409e  ...            150.0   \n",
              "\n",
              "       product_length_cm  product_height_cm  product_width_cm  \\\n",
              "0                   19.0                8.0              13.0   \n",
              "1                   19.0                8.0              13.0   \n",
              "2                   19.0                8.0              13.0   \n",
              "3                   19.0               13.0              19.0   \n",
              "4                   24.0               19.0              21.0   \n",
              "...                  ...                ...               ...   \n",
              "114837              40.0               10.0              40.0   \n",
              "114838              32.0               90.0              22.0   \n",
              "114839              20.0               20.0              20.0   \n",
              "114840              20.0               20.0              20.0   \n",
              "114841              16.0                7.0              15.0   \n",
              "\n",
              "        product_category_name_english lead_time_po_approved  \\\n",
              "0                          housewares              0.007431   \n",
              "1                          housewares              0.007431   \n",
              "2                          housewares              0.007431   \n",
              "3                           perfumery              1.279745   \n",
              "4                                auto              0.011505   \n",
              "...                               ...                   ...   \n",
              "114837                           baby              0.008090   \n",
              "114838              home_appliances_2              0.012188   \n",
              "114839          computers_accessories              0.005486   \n",
              "114840          computers_accessories              0.005486   \n",
              "114841                  health_beauty              0.599282   \n",
              "\n",
              "        lead_time_po_customer  promosied_actual order_year  order_month  \n",
              "0                    2.373924          7.107488       2017           10  \n",
              "1                    2.373924          7.107488       2017           10  \n",
              "2                    2.373924          7.107488       2017           10  \n",
              "3                    1.742627          5.355729       2018            7  \n",
              "4                    0.216100         17.245498       2018            8  \n",
              "...                       ...               ...        ...          ...  \n",
              "114837               1.433148          1.265324       2018            2  \n",
              "114838               1.253970          5.524803       2017            8  \n",
              "114839               3.754583         20.018819       2018            1  \n",
              "114840               3.754583         20.018819       2018            1  \n",
              "114841               1.051725         17.452431       2018            3  \n",
              "\n",
              "[114842 rows x 42 columns]"
            ],
            "text/html": [
              "\n",
              "  <div id=\"df-e8650505-0bfe-48fe-a7e3-3d3d6ab9d729\">\n",
              "    <div class=\"colab-df-container\">\n",
              "      <div>\n",
              "<style scoped>\n",
              "    .dataframe tbody tr th:only-of-type {\n",
              "        vertical-align: middle;\n",
              "    }\n",
              "\n",
              "    .dataframe tbody tr th {\n",
              "        vertical-align: top;\n",
              "    }\n",
              "\n",
              "    .dataframe thead th {\n",
              "        text-align: right;\n",
              "    }\n",
              "</style>\n",
              "<table border=\"1\" class=\"dataframe\">\n",
              "  <thead>\n",
              "    <tr style=\"text-align: right;\">\n",
              "      <th></th>\n",
              "      <th>order_id</th>\n",
              "      <th>customer_id</th>\n",
              "      <th>order_status</th>\n",
              "      <th>order_purchase_timestamp</th>\n",
              "      <th>order_approved_at</th>\n",
              "      <th>order_delivered_carrier_date</th>\n",
              "      <th>order_delivered_customer_date</th>\n",
              "      <th>order_estimated_delivery_date</th>\n",
              "      <th>order_item_id</th>\n",
              "      <th>product_id</th>\n",
              "      <th>...</th>\n",
              "      <th>product_weight_g</th>\n",
              "      <th>product_length_cm</th>\n",
              "      <th>product_height_cm</th>\n",
              "      <th>product_width_cm</th>\n",
              "      <th>product_category_name_english</th>\n",
              "      <th>lead_time_po_approved</th>\n",
              "      <th>lead_time_po_customer</th>\n",
              "      <th>promosied_actual</th>\n",
              "      <th>order_year</th>\n",
              "      <th>order_month</th>\n",
              "    </tr>\n",
              "  </thead>\n",
              "  <tbody>\n",
              "    <tr>\n",
              "      <th>0</th>\n",
              "      <td>e481f51cbdc54678b7cc49136f2d6af7</td>\n",
              "      <td>9ef432eb6251297304e76186b10a928d</td>\n",
              "      <td>delivered</td>\n",
              "      <td>2017-10-02 10:56:33</td>\n",
              "      <td>2017-10-02 11:07:15</td>\n",
              "      <td>2017-10-04 19:55:00</td>\n",
              "      <td>2017-10-10 21:25:13</td>\n",
              "      <td>2017-10-18</td>\n",
              "      <td>1</td>\n",
              "      <td>87285b34884572647811a353c7ac498a</td>\n",
              "      <td>...</td>\n",
              "      <td>500.0</td>\n",
              "      <td>19.0</td>\n",
              "      <td>8.0</td>\n",
              "      <td>13.0</td>\n",
              "      <td>housewares</td>\n",
              "      <td>0.007431</td>\n",
              "      <td>2.373924</td>\n",
              "      <td>7.107488</td>\n",
              "      <td>2017</td>\n",
              "      <td>10</td>\n",
              "    </tr>\n",
              "    <tr>\n",
              "      <th>1</th>\n",
              "      <td>e481f51cbdc54678b7cc49136f2d6af7</td>\n",
              "      <td>9ef432eb6251297304e76186b10a928d</td>\n",
              "      <td>delivered</td>\n",
              "      <td>2017-10-02 10:56:33</td>\n",
              "      <td>2017-10-02 11:07:15</td>\n",
              "      <td>2017-10-04 19:55:00</td>\n",
              "      <td>2017-10-10 21:25:13</td>\n",
              "      <td>2017-10-18</td>\n",
              "      <td>1</td>\n",
              "      <td>87285b34884572647811a353c7ac498a</td>\n",
              "      <td>...</td>\n",
              "      <td>500.0</td>\n",
              "      <td>19.0</td>\n",
              "      <td>8.0</td>\n",
              "      <td>13.0</td>\n",
              "      <td>housewares</td>\n",
              "      <td>0.007431</td>\n",
              "      <td>2.373924</td>\n",
              "      <td>7.107488</td>\n",
              "      <td>2017</td>\n",
              "      <td>10</td>\n",
              "    </tr>\n",
              "    <tr>\n",
              "      <th>2</th>\n",
              "      <td>e481f51cbdc54678b7cc49136f2d6af7</td>\n",
              "      <td>9ef432eb6251297304e76186b10a928d</td>\n",
              "      <td>delivered</td>\n",
              "      <td>2017-10-02 10:56:33</td>\n",
              "      <td>2017-10-02 11:07:15</td>\n",
              "      <td>2017-10-04 19:55:00</td>\n",
              "      <td>2017-10-10 21:25:13</td>\n",
              "      <td>2017-10-18</td>\n",
              "      <td>1</td>\n",
              "      <td>87285b34884572647811a353c7ac498a</td>\n",
              "      <td>...</td>\n",
              "      <td>500.0</td>\n",
              "      <td>19.0</td>\n",
              "      <td>8.0</td>\n",
              "      <td>13.0</td>\n",
              "      <td>housewares</td>\n",
              "      <td>0.007431</td>\n",
              "      <td>2.373924</td>\n",
              "      <td>7.107488</td>\n",
              "      <td>2017</td>\n",
              "      <td>10</td>\n",
              "    </tr>\n",
              "    <tr>\n",
              "      <th>3</th>\n",
              "      <td>53cdb2fc8bc7dce0b6741e2150273451</td>\n",
              "      <td>b0830fb4747a6c6d20dea0b8c802d7ef</td>\n",
              "      <td>delivered</td>\n",
              "      <td>2018-07-24 20:41:37</td>\n",
              "      <td>2018-07-26 03:24:27</td>\n",
              "      <td>2018-07-26 14:31:00</td>\n",
              "      <td>2018-08-07 15:27:45</td>\n",
              "      <td>2018-08-13</td>\n",
              "      <td>1</td>\n",
              "      <td>595fac2a385ac33a80bd5114aec74eb8</td>\n",
              "      <td>...</td>\n",
              "      <td>400.0</td>\n",
              "      <td>19.0</td>\n",
              "      <td>13.0</td>\n",
              "      <td>19.0</td>\n",
              "      <td>perfumery</td>\n",
              "      <td>1.279745</td>\n",
              "      <td>1.742627</td>\n",
              "      <td>5.355729</td>\n",
              "      <td>2018</td>\n",
              "      <td>7</td>\n",
              "    </tr>\n",
              "    <tr>\n",
              "      <th>4</th>\n",
              "      <td>47770eb9100c2d0c44946d9cf07ec65d</td>\n",
              "      <td>41ce2a54c0b03bf3443c3d931a367089</td>\n",
              "      <td>delivered</td>\n",
              "      <td>2018-08-08 08:38:49</td>\n",
              "      <td>2018-08-08 08:55:23</td>\n",
              "      <td>2018-08-08 13:50:00</td>\n",
              "      <td>2018-08-17 18:06:29</td>\n",
              "      <td>2018-09-04</td>\n",
              "      <td>1</td>\n",
              "      <td>aa4383b373c6aca5d8797843e5594415</td>\n",
              "      <td>...</td>\n",
              "      <td>420.0</td>\n",
              "      <td>24.0</td>\n",
              "      <td>19.0</td>\n",
              "      <td>21.0</td>\n",
              "      <td>auto</td>\n",
              "      <td>0.011505</td>\n",
              "      <td>0.216100</td>\n",
              "      <td>17.245498</td>\n",
              "      <td>2018</td>\n",
              "      <td>8</td>\n",
              "    </tr>\n",
              "    <tr>\n",
              "      <th>...</th>\n",
              "      <td>...</td>\n",
              "      <td>...</td>\n",
              "      <td>...</td>\n",
              "      <td>...</td>\n",
              "      <td>...</td>\n",
              "      <td>...</td>\n",
              "      <td>...</td>\n",
              "      <td>...</td>\n",
              "      <td>...</td>\n",
              "      <td>...</td>\n",
              "      <td>...</td>\n",
              "      <td>...</td>\n",
              "      <td>...</td>\n",
              "      <td>...</td>\n",
              "      <td>...</td>\n",
              "      <td>...</td>\n",
              "      <td>...</td>\n",
              "      <td>...</td>\n",
              "      <td>...</td>\n",
              "      <td>...</td>\n",
              "      <td>...</td>\n",
              "    </tr>\n",
              "    <tr>\n",
              "      <th>114837</th>\n",
              "      <td>63943bddc261676b46f01ca7ac2f7bd8</td>\n",
              "      <td>1fca14ff2861355f6e5f14306ff977a7</td>\n",
              "      <td>delivered</td>\n",
              "      <td>2018-02-06 12:58:58</td>\n",
              "      <td>2018-02-06 13:10:37</td>\n",
              "      <td>2018-02-07 23:22:42</td>\n",
              "      <td>2018-02-28 17:37:56</td>\n",
              "      <td>2018-03-02</td>\n",
              "      <td>1</td>\n",
              "      <td>f1d4ce8c6dd66c47bbaa8c6781c2a923</td>\n",
              "      <td>...</td>\n",
              "      <td>4950.0</td>\n",
              "      <td>40.0</td>\n",
              "      <td>10.0</td>\n",
              "      <td>40.0</td>\n",
              "      <td>baby</td>\n",
              "      <td>0.008090</td>\n",
              "      <td>1.433148</td>\n",
              "      <td>1.265324</td>\n",
              "      <td>2018</td>\n",
              "      <td>2</td>\n",
              "    </tr>\n",
              "    <tr>\n",
              "      <th>114838</th>\n",
              "      <td>83c1379a015df1e13d02aae0204711ab</td>\n",
              "      <td>1aa71eb042121263aafbe80c1b562c9c</td>\n",
              "      <td>delivered</td>\n",
              "      <td>2017-08-27 14:46:43</td>\n",
              "      <td>2017-08-27 15:04:16</td>\n",
              "      <td>2017-08-28 20:52:26</td>\n",
              "      <td>2017-09-21 11:24:17</td>\n",
              "      <td>2017-09-27</td>\n",
              "      <td>1</td>\n",
              "      <td>b80910977a37536adeddd63663f916ad</td>\n",
              "      <td>...</td>\n",
              "      <td>13300.0</td>\n",
              "      <td>32.0</td>\n",
              "      <td>90.0</td>\n",
              "      <td>22.0</td>\n",
              "      <td>home_appliances_2</td>\n",
              "      <td>0.012188</td>\n",
              "      <td>1.253970</td>\n",
              "      <td>5.524803</td>\n",
              "      <td>2017</td>\n",
              "      <td>8</td>\n",
              "    </tr>\n",
              "    <tr>\n",
              "      <th>114839</th>\n",
              "      <td>11c177c8e97725db2631073c19f07b62</td>\n",
              "      <td>b331b74b18dc79bcdf6532d51e1637c1</td>\n",
              "      <td>delivered</td>\n",
              "      <td>2018-01-08 21:28:27</td>\n",
              "      <td>2018-01-08 21:36:21</td>\n",
              "      <td>2018-01-12 15:35:03</td>\n",
              "      <td>2018-01-25 23:32:54</td>\n",
              "      <td>2018-02-15</td>\n",
              "      <td>1</td>\n",
              "      <td>d1c427060a0f73f6b889a5c7c61f2ac4</td>\n",
              "      <td>...</td>\n",
              "      <td>6550.0</td>\n",
              "      <td>20.0</td>\n",
              "      <td>20.0</td>\n",
              "      <td>20.0</td>\n",
              "      <td>computers_accessories</td>\n",
              "      <td>0.005486</td>\n",
              "      <td>3.754583</td>\n",
              "      <td>20.018819</td>\n",
              "      <td>2018</td>\n",
              "      <td>1</td>\n",
              "    </tr>\n",
              "    <tr>\n",
              "      <th>114840</th>\n",
              "      <td>11c177c8e97725db2631073c19f07b62</td>\n",
              "      <td>b331b74b18dc79bcdf6532d51e1637c1</td>\n",
              "      <td>delivered</td>\n",
              "      <td>2018-01-08 21:28:27</td>\n",
              "      <td>2018-01-08 21:36:21</td>\n",
              "      <td>2018-01-12 15:35:03</td>\n",
              "      <td>2018-01-25 23:32:54</td>\n",
              "      <td>2018-02-15</td>\n",
              "      <td>2</td>\n",
              "      <td>d1c427060a0f73f6b889a5c7c61f2ac4</td>\n",
              "      <td>...</td>\n",
              "      <td>6550.0</td>\n",
              "      <td>20.0</td>\n",
              "      <td>20.0</td>\n",
              "      <td>20.0</td>\n",
              "      <td>computers_accessories</td>\n",
              "      <td>0.005486</td>\n",
              "      <td>3.754583</td>\n",
              "      <td>20.018819</td>\n",
              "      <td>2018</td>\n",
              "      <td>1</td>\n",
              "    </tr>\n",
              "    <tr>\n",
              "      <th>114841</th>\n",
              "      <td>66dea50a8b16d9b4dee7af250b4be1a5</td>\n",
              "      <td>edb027a75a1449115f6b43211ae02a24</td>\n",
              "      <td>delivered</td>\n",
              "      <td>2018-03-08 20:57:30</td>\n",
              "      <td>2018-03-09 11:20:28</td>\n",
              "      <td>2018-03-09 22:11:59</td>\n",
              "      <td>2018-03-16 13:08:30</td>\n",
              "      <td>2018-04-03</td>\n",
              "      <td>1</td>\n",
              "      <td>006619bbed68b000c8ba3f8725d5409e</td>\n",
              "      <td>...</td>\n",
              "      <td>150.0</td>\n",
              "      <td>16.0</td>\n",
              "      <td>7.0</td>\n",
              "      <td>15.0</td>\n",
              "      <td>health_beauty</td>\n",
              "      <td>0.599282</td>\n",
              "      <td>1.051725</td>\n",
              "      <td>17.452431</td>\n",
              "      <td>2018</td>\n",
              "      <td>3</td>\n",
              "    </tr>\n",
              "  </tbody>\n",
              "</table>\n",
              "<p>114842 rows × 42 columns</p>\n",
              "</div>\n",
              "      <button class=\"colab-df-convert\" onclick=\"convertToInteractive('df-e8650505-0bfe-48fe-a7e3-3d3d6ab9d729')\"\n",
              "              title=\"Convert this dataframe to an interactive table.\"\n",
              "              style=\"display:none;\">\n",
              "        \n",
              "  <svg xmlns=\"http://www.w3.org/2000/svg\" height=\"24px\"viewBox=\"0 0 24 24\"\n",
              "       width=\"24px\">\n",
              "    <path d=\"M0 0h24v24H0V0z\" fill=\"none\"/>\n",
              "    <path d=\"M18.56 5.44l.94 2.06.94-2.06 2.06-.94-2.06-.94-.94-2.06-.94 2.06-2.06.94zm-11 1L8.5 8.5l.94-2.06 2.06-.94-2.06-.94L8.5 2.5l-.94 2.06-2.06.94zm10 10l.94 2.06.94-2.06 2.06-.94-2.06-.94-.94-2.06-.94 2.06-2.06.94z\"/><path d=\"M17.41 7.96l-1.37-1.37c-.4-.4-.92-.59-1.43-.59-.52 0-1.04.2-1.43.59L10.3 9.45l-7.72 7.72c-.78.78-.78 2.05 0 2.83L4 21.41c.39.39.9.59 1.41.59.51 0 1.02-.2 1.41-.59l7.78-7.78 2.81-2.81c.8-.78.8-2.07 0-2.86zM5.41 20L4 18.59l7.72-7.72 1.47 1.35L5.41 20z\"/>\n",
              "  </svg>\n",
              "      </button>\n",
              "      \n",
              "  <style>\n",
              "    .colab-df-container {\n",
              "      display:flex;\n",
              "      flex-wrap:wrap;\n",
              "      gap: 12px;\n",
              "    }\n",
              "\n",
              "    .colab-df-convert {\n",
              "      background-color: #E8F0FE;\n",
              "      border: none;\n",
              "      border-radius: 50%;\n",
              "      cursor: pointer;\n",
              "      display: none;\n",
              "      fill: #1967D2;\n",
              "      height: 32px;\n",
              "      padding: 0 0 0 0;\n",
              "      width: 32px;\n",
              "    }\n",
              "\n",
              "    .colab-df-convert:hover {\n",
              "      background-color: #E2EBFA;\n",
              "      box-shadow: 0px 1px 2px rgba(60, 64, 67, 0.3), 0px 1px 3px 1px rgba(60, 64, 67, 0.15);\n",
              "      fill: #174EA6;\n",
              "    }\n",
              "\n",
              "    [theme=dark] .colab-df-convert {\n",
              "      background-color: #3B4455;\n",
              "      fill: #D2E3FC;\n",
              "    }\n",
              "\n",
              "    [theme=dark] .colab-df-convert:hover {\n",
              "      background-color: #434B5C;\n",
              "      box-shadow: 0px 1px 3px 1px rgba(0, 0, 0, 0.15);\n",
              "      filter: drop-shadow(0px 1px 2px rgba(0, 0, 0, 0.3));\n",
              "      fill: #FFFFFF;\n",
              "    }\n",
              "  </style>\n",
              "\n",
              "      <script>\n",
              "        const buttonEl =\n",
              "          document.querySelector('#df-e8650505-0bfe-48fe-a7e3-3d3d6ab9d729 button.colab-df-convert');\n",
              "        buttonEl.style.display =\n",
              "          google.colab.kernel.accessAllowed ? 'block' : 'none';\n",
              "\n",
              "        async function convertToInteractive(key) {\n",
              "          const element = document.querySelector('#df-e8650505-0bfe-48fe-a7e3-3d3d6ab9d729');\n",
              "          const dataTable =\n",
              "            await google.colab.kernel.invokeFunction('convertToInteractive',\n",
              "                                                     [key], {});\n",
              "          if (!dataTable) return;\n",
              "\n",
              "          const docLinkHtml = 'Like what you see? Visit the ' +\n",
              "            '<a target=\"_blank\" href=https://colab.research.google.com/notebooks/data_table.ipynb>data table notebook</a>'\n",
              "            + ' to learn more about interactive tables.';\n",
              "          element.innerHTML = '';\n",
              "          dataTable['output_type'] = 'display_data';\n",
              "          await google.colab.output.renderOutput(dataTable, element);\n",
              "          const docLink = document.createElement('div');\n",
              "          docLink.innerHTML = docLinkHtml;\n",
              "          element.appendChild(docLink);\n",
              "        }\n",
              "      </script>\n",
              "    </div>\n",
              "  </div>\n",
              "  "
            ]
          },
          "metadata": {},
          "execution_count": 11
        }
      ]
    },
    {
      "cell_type": "code",
      "source": [
        "data.columns"
      ],
      "metadata": {
        "colab": {
          "base_uri": "https://localhost:8080/"
        },
        "id": "FYYtGxYh_g7Q",
        "outputId": "b7c77c16-0912-478c-c423-355615ca6ae4"
      },
      "execution_count": null,
      "outputs": [
        {
          "output_type": "execute_result",
          "data": {
            "text/plain": [
              "Index(['order_id', 'customer_id', 'order_status', 'order_purchase_timestamp',\n",
              "       'order_approved_at', 'order_delivered_carrier_date',\n",
              "       'order_delivered_customer_date', 'order_estimated_delivery_date',\n",
              "       'order_item_id', 'product_id', 'seller_id', 'shipping_limit_date',\n",
              "       'price', 'freight_value', 'payment_sequential', 'payment_type',\n",
              "       'payment_installments', 'payment_value', 'review_id', 'review_score',\n",
              "       'review_comment_title', 'review_comment_message',\n",
              "       'review_creation_date', 'review_answer_timestamp', 'customer_unique_id',\n",
              "       'customer_zip_code_prefix', 'customer_city', 'customer_state',\n",
              "       'product_category_name', 'product_name_lenght',\n",
              "       'product_description_lenght', 'product_photos_qty', 'product_weight_g',\n",
              "       'product_length_cm', 'product_height_cm', 'product_width_cm',\n",
              "       'product_category_name_english', 'lead_time_po_approved',\n",
              "       'lead_time_po_customer', 'promosied_actual', 'order_year',\n",
              "       'order_month'],\n",
              "      dtype='object')"
            ]
          },
          "metadata": {},
          "execution_count": 12
        }
      ]
    },
    {
      "cell_type": "code",
      "source": [
        "data.drop(data[data.order_year ==2016].index, inplace=True)"
      ],
      "metadata": {
        "id": "KsmGmlb4_km_"
      },
      "execution_count": null,
      "outputs": []
    },
    {
      "cell_type": "markdown",
      "source": [
        "now we are going to use LSTM to predict sales"
      ],
      "metadata": {
        "id": "JW-KUxLd_nfT"
      }
    },
    {
      "cell_type": "code",
      "source": [
        "df=data[['order_purchase_timestamp','price']].copy()\n",
        "# change datetime to date \n",
        "df[\"order_purchase_timestamp\"] = pd.to_datetime(df[\"order_purchase_timestamp\"]).dt.date"
      ],
      "metadata": {
        "id": "-4grM20x_shv"
      },
      "execution_count": null,
      "outputs": []
    },
    {
      "cell_type": "code",
      "source": [
        "# we need to group price then set date to be index for the following coding \n",
        "df=df.groupby(['order_purchase_timestamp']).sum()\n",
        "df=df.add_suffix('_sum').reset_index()\n",
        "# make purchase date as index \n",
        "# this is important to set freq ---here we use days but maybe we should use month? or week? need to think about it\n",
        "df=df.set_index('order_purchase_timestamp').asfreq('d')\n",
        "# make freq as date\n",
        "#df.index.freq='DS' "
      ],
      "metadata": {
        "id": "u2WdYhUp_vyG"
      },
      "execution_count": null,
      "outputs": []
    },
    {
      "cell_type": "code",
      "source": [
        "df.tail()"
      ],
      "metadata": {
        "colab": {
          "base_uri": "https://localhost:8080/",
          "height": 235
        },
        "id": "W26PJNyS_ygJ",
        "outputId": "fed64fcc-3ced-484f-ffda-b83c77ef4b40"
      },
      "execution_count": null,
      "outputs": [
        {
          "output_type": "execute_result",
          "data": {
            "text/plain": [
              "                          price_sum\n",
              "order_purchase_timestamp           \n",
              "2018-08-25                 10711.93\n",
              "2018-08-26                  8295.61\n",
              "2018-08-27                  5373.66\n",
              "2018-08-28                  3757.51\n",
              "2018-08-29                  1546.04"
            ],
            "text/html": [
              "\n",
              "  <div id=\"df-63c2a3ab-236b-4137-ab52-117d17de3108\">\n",
              "    <div class=\"colab-df-container\">\n",
              "      <div>\n",
              "<style scoped>\n",
              "    .dataframe tbody tr th:only-of-type {\n",
              "        vertical-align: middle;\n",
              "    }\n",
              "\n",
              "    .dataframe tbody tr th {\n",
              "        vertical-align: top;\n",
              "    }\n",
              "\n",
              "    .dataframe thead th {\n",
              "        text-align: right;\n",
              "    }\n",
              "</style>\n",
              "<table border=\"1\" class=\"dataframe\">\n",
              "  <thead>\n",
              "    <tr style=\"text-align: right;\">\n",
              "      <th></th>\n",
              "      <th>price_sum</th>\n",
              "    </tr>\n",
              "    <tr>\n",
              "      <th>order_purchase_timestamp</th>\n",
              "      <th></th>\n",
              "    </tr>\n",
              "  </thead>\n",
              "  <tbody>\n",
              "    <tr>\n",
              "      <th>2018-08-25</th>\n",
              "      <td>10711.93</td>\n",
              "    </tr>\n",
              "    <tr>\n",
              "      <th>2018-08-26</th>\n",
              "      <td>8295.61</td>\n",
              "    </tr>\n",
              "    <tr>\n",
              "      <th>2018-08-27</th>\n",
              "      <td>5373.66</td>\n",
              "    </tr>\n",
              "    <tr>\n",
              "      <th>2018-08-28</th>\n",
              "      <td>3757.51</td>\n",
              "    </tr>\n",
              "    <tr>\n",
              "      <th>2018-08-29</th>\n",
              "      <td>1546.04</td>\n",
              "    </tr>\n",
              "  </tbody>\n",
              "</table>\n",
              "</div>\n",
              "      <button class=\"colab-df-convert\" onclick=\"convertToInteractive('df-63c2a3ab-236b-4137-ab52-117d17de3108')\"\n",
              "              title=\"Convert this dataframe to an interactive table.\"\n",
              "              style=\"display:none;\">\n",
              "        \n",
              "  <svg xmlns=\"http://www.w3.org/2000/svg\" height=\"24px\"viewBox=\"0 0 24 24\"\n",
              "       width=\"24px\">\n",
              "    <path d=\"M0 0h24v24H0V0z\" fill=\"none\"/>\n",
              "    <path d=\"M18.56 5.44l.94 2.06.94-2.06 2.06-.94-2.06-.94-.94-2.06-.94 2.06-2.06.94zm-11 1L8.5 8.5l.94-2.06 2.06-.94-2.06-.94L8.5 2.5l-.94 2.06-2.06.94zm10 10l.94 2.06.94-2.06 2.06-.94-2.06-.94-.94-2.06-.94 2.06-2.06.94z\"/><path d=\"M17.41 7.96l-1.37-1.37c-.4-.4-.92-.59-1.43-.59-.52 0-1.04.2-1.43.59L10.3 9.45l-7.72 7.72c-.78.78-.78 2.05 0 2.83L4 21.41c.39.39.9.59 1.41.59.51 0 1.02-.2 1.41-.59l7.78-7.78 2.81-2.81c.8-.78.8-2.07 0-2.86zM5.41 20L4 18.59l7.72-7.72 1.47 1.35L5.41 20z\"/>\n",
              "  </svg>\n",
              "      </button>\n",
              "      \n",
              "  <style>\n",
              "    .colab-df-container {\n",
              "      display:flex;\n",
              "      flex-wrap:wrap;\n",
              "      gap: 12px;\n",
              "    }\n",
              "\n",
              "    .colab-df-convert {\n",
              "      background-color: #E8F0FE;\n",
              "      border: none;\n",
              "      border-radius: 50%;\n",
              "      cursor: pointer;\n",
              "      display: none;\n",
              "      fill: #1967D2;\n",
              "      height: 32px;\n",
              "      padding: 0 0 0 0;\n",
              "      width: 32px;\n",
              "    }\n",
              "\n",
              "    .colab-df-convert:hover {\n",
              "      background-color: #E2EBFA;\n",
              "      box-shadow: 0px 1px 2px rgba(60, 64, 67, 0.3), 0px 1px 3px 1px rgba(60, 64, 67, 0.15);\n",
              "      fill: #174EA6;\n",
              "    }\n",
              "\n",
              "    [theme=dark] .colab-df-convert {\n",
              "      background-color: #3B4455;\n",
              "      fill: #D2E3FC;\n",
              "    }\n",
              "\n",
              "    [theme=dark] .colab-df-convert:hover {\n",
              "      background-color: #434B5C;\n",
              "      box-shadow: 0px 1px 3px 1px rgba(0, 0, 0, 0.15);\n",
              "      filter: drop-shadow(0px 1px 2px rgba(0, 0, 0, 0.3));\n",
              "      fill: #FFFFFF;\n",
              "    }\n",
              "  </style>\n",
              "\n",
              "      <script>\n",
              "        const buttonEl =\n",
              "          document.querySelector('#df-63c2a3ab-236b-4137-ab52-117d17de3108 button.colab-df-convert');\n",
              "        buttonEl.style.display =\n",
              "          google.colab.kernel.accessAllowed ? 'block' : 'none';\n",
              "\n",
              "        async function convertToInteractive(key) {\n",
              "          const element = document.querySelector('#df-63c2a3ab-236b-4137-ab52-117d17de3108');\n",
              "          const dataTable =\n",
              "            await google.colab.kernel.invokeFunction('convertToInteractive',\n",
              "                                                     [key], {});\n",
              "          if (!dataTable) return;\n",
              "\n",
              "          const docLinkHtml = 'Like what you see? Visit the ' +\n",
              "            '<a target=\"_blank\" href=https://colab.research.google.com/notebooks/data_table.ipynb>data table notebook</a>'\n",
              "            + ' to learn more about interactive tables.';\n",
              "          element.innerHTML = '';\n",
              "          dataTable['output_type'] = 'display_data';\n",
              "          await google.colab.output.renderOutput(dataTable, element);\n",
              "          const docLink = document.createElement('div');\n",
              "          docLink.innerHTML = docLinkHtml;\n",
              "          element.appendChild(docLink);\n",
              "        }\n",
              "      </script>\n",
              "    </div>\n",
              "  </div>\n",
              "  "
            ]
          },
          "metadata": {},
          "execution_count": 16
        }
      ]
    },
    {
      "cell_type": "code",
      "source": [
        "df.plot(figsize=(12,6))"
      ],
      "metadata": {
        "colab": {
          "base_uri": "https://localhost:8080/",
          "height": 420
        },
        "id": "iRCSL4PX_1UA",
        "outputId": "6e37a951-0e62-4947-92bb-6d413ce29519"
      },
      "execution_count": null,
      "outputs": [
        {
          "output_type": "execute_result",
          "data": {
            "text/plain": [
              "<matplotlib.axes._subplots.AxesSubplot at 0x7f3674fe2790>"
            ]
          },
          "metadata": {},
          "execution_count": 17
        },
        {
          "output_type": "display_data",
          "data": {
            "text/plain": [
              "<Figure size 864x432 with 1 Axes>"
            ],
            "image/png": "[encoded data removed]"
          },
          "metadata": {
            "needs_background": "light"
          }
        }
      ]
    },
    {
      "cell_type": "code",
      "source": [
        "df.describe()"
      ],
      "metadata": {
        "colab": {
          "base_uri": "https://localhost:8080/",
          "height": 297
        },
        "id": "yJspfUoN_4tA",
        "outputId": "04fa89e1-192a-4169-9c02-6dc072f68001"
      },
      "execution_count": null,
      "outputs": [
        {
          "output_type": "execute_result",
          "data": {
            "text/plain": [
              "           price_sum\n",
              "count     602.000000\n",
              "mean    22778.982359\n",
              "std     12603.266712\n",
              "min       396.900000\n",
              "25%     13726.260000\n",
              "50%     21241.195000\n",
              "75%     29898.045000\n",
              "max    153406.220000"
            ],
            "text/html": [
              "\n",
              "  <div id=\"df-a37aa50b-fbc9-4c6f-9267-82f190e4562f\">\n",
              "    <div class=\"colab-df-container\">\n",
              "      <div>\n",
              "<style scoped>\n",
              "    .dataframe tbody tr th:only-of-type {\n",
              "        vertical-align: middle;\n",
              "    }\n",
              "\n",
              "    .dataframe tbody tr th {\n",
              "        vertical-align: top;\n",
              "    }\n",
              "\n",
              "    .dataframe thead th {\n",
              "        text-align: right;\n",
              "    }\n",
              "</style>\n",
              "<table border=\"1\" class=\"dataframe\">\n",
              "  <thead>\n",
              "    <tr style=\"text-align: right;\">\n",
              "      <th></th>\n",
              "      <th>price_sum</th>\n",
              "    </tr>\n",
              "  </thead>\n",
              "  <tbody>\n",
              "    <tr>\n",
              "      <th>count</th>\n",
              "      <td>602.000000</td>\n",
              "    </tr>\n",
              "    <tr>\n",
              "      <th>mean</th>\n",
              "      <td>22778.982359</td>\n",
              "    </tr>\n",
              "    <tr>\n",
              "      <th>std</th>\n",
              "      <td>12603.266712</td>\n",
              "    </tr>\n",
              "    <tr>\n",
              "      <th>min</th>\n",
              "      <td>396.900000</td>\n",
              "    </tr>\n",
              "    <tr>\n",
              "      <th>25%</th>\n",
              "      <td>13726.260000</td>\n",
              "    </tr>\n",
              "    <tr>\n",
              "      <th>50%</th>\n",
              "      <td>21241.195000</td>\n",
              "    </tr>\n",
              "    <tr>\n",
              "      <th>75%</th>\n",
              "      <td>29898.045000</td>\n",
              "    </tr>\n",
              "    <tr>\n",
              "      <th>max</th>\n",
              "      <td>153406.220000</td>\n",
              "    </tr>\n",
              "  </tbody>\n",
              "</table>\n",
              "</div>\n",
              "      <button class=\"colab-df-convert\" onclick=\"convertToInteractive('df-a37aa50b-fbc9-4c6f-9267-82f190e4562f')\"\n",
              "              title=\"Convert this dataframe to an interactive table.\"\n",
              "              style=\"display:none;\">\n",
              "        \n",
              "  <svg xmlns=\"http://www.w3.org/2000/svg\" height=\"24px\"viewBox=\"0 0 24 24\"\n",
              "       width=\"24px\">\n",
              "    <path d=\"M0 0h24v24H0V0z\" fill=\"none\"/>\n",
              "    <path d=\"M18.56 5.44l.94 2.06.94-2.06 2.06-.94-2.06-.94-.94-2.06-.94 2.06-2.06.94zm-11 1L8.5 8.5l.94-2.06 2.06-.94-2.06-.94L8.5 2.5l-.94 2.06-2.06.94zm10 10l.94 2.06.94-2.06 2.06-.94-2.06-.94-.94-2.06-.94 2.06-2.06.94z\"/><path d=\"M17.41 7.96l-1.37-1.37c-.4-.4-.92-.59-1.43-.59-.52 0-1.04.2-1.43.59L10.3 9.45l-7.72 7.72c-.78.78-.78 2.05 0 2.83L4 21.41c.39.39.9.59 1.41.59.51 0 1.02-.2 1.41-.59l7.78-7.78 2.81-2.81c.8-.78.8-2.07 0-2.86zM5.41 20L4 18.59l7.72-7.72 1.47 1.35L5.41 20z\"/>\n",
              "  </svg>\n",
              "      </button>\n",
              "      \n",
              "  <style>\n",
              "    .colab-df-container {\n",
              "      display:flex;\n",
              "      flex-wrap:wrap;\n",
              "      gap: 12px;\n",
              "    }\n",
              "\n",
              "    .colab-df-convert {\n",
              "      background-color: #E8F0FE;\n",
              "      border: none;\n",
              "      border-radius: 50%;\n",
              "      cursor: pointer;\n",
              "      display: none;\n",
              "      fill: #1967D2;\n",
              "      height: 32px;\n",
              "      padding: 0 0 0 0;\n",
              "      width: 32px;\n",
              "    }\n",
              "\n",
              "    .colab-df-convert:hover {\n",
              "      background-color: #E2EBFA;\n",
              "      box-shadow: 0px 1px 2px rgba(60, 64, 67, 0.3), 0px 1px 3px 1px rgba(60, 64, 67, 0.15);\n",
              "      fill: #174EA6;\n",
              "    }\n",
              "\n",
              "    [theme=dark] .colab-df-convert {\n",
              "      background-color: #3B4455;\n",
              "      fill: #D2E3FC;\n",
              "    }\n",
              "\n",
              "    [theme=dark] .colab-df-convert:hover {\n",
              "      background-color: #434B5C;\n",
              "      box-shadow: 0px 1px 3px 1px rgba(0, 0, 0, 0.15);\n",
              "      filter: drop-shadow(0px 1px 2px rgba(0, 0, 0, 0.3));\n",
              "      fill: #FFFFFF;\n",
              "    }\n",
              "  </style>\n",
              "\n",
              "      <script>\n",
              "        const buttonEl =\n",
              "          document.querySelector('#df-a37aa50b-fbc9-4c6f-9267-82f190e4562f button.colab-df-convert');\n",
              "        buttonEl.style.display =\n",
              "          google.colab.kernel.accessAllowed ? 'block' : 'none';\n",
              "\n",
              "        async function convertToInteractive(key) {\n",
              "          const element = document.querySelector('#df-a37aa50b-fbc9-4c6f-9267-82f190e4562f');\n",
              "          const dataTable =\n",
              "            await google.colab.kernel.invokeFunction('convertToInteractive',\n",
              "                                                     [key], {});\n",
              "          if (!dataTable) return;\n",
              "\n",
              "          const docLinkHtml = 'Like what you see? Visit the ' +\n",
              "            '<a target=\"_blank\" href=https://colab.research.google.com/notebooks/data_table.ipynb>data table notebook</a>'\n",
              "            + ' to learn more about interactive tables.';\n",
              "          element.innerHTML = '';\n",
              "          dataTable['output_type'] = 'display_data';\n",
              "          await google.colab.output.renderOutput(dataTable, element);\n",
              "          const docLink = document.createElement('div');\n",
              "          docLink.innerHTML = docLinkHtml;\n",
              "          element.appendChild(docLink);\n",
              "        }\n",
              "      </script>\n",
              "    </div>\n",
              "  </div>\n",
              "  "
            ]
          },
          "metadata": {},
          "execution_count": 18
        }
      ]
    },
    {
      "cell_type": "code",
      "source": [
        "df[df.price_sum>153406]\n",
        "# christmas eve sales peak "
      ],
      "metadata": {
        "colab": {
          "base_uri": "https://localhost:8080/",
          "height": 111
        },
        "id": "GKM9McXt_759",
        "outputId": "f8a1dbc1-3179-42db-ff1b-4baf8d56acfd"
      },
      "execution_count": null,
      "outputs": [
        {
          "output_type": "execute_result",
          "data": {
            "text/plain": [
              "                          price_sum\n",
              "order_purchase_timestamp           \n",
              "2017-11-24                153406.22"
            ],
            "text/html": [
              "\n",
              "  <div id=\"df-72654fe0-315e-4984-acf8-2c8e3ee8287b\">\n",
              "    <div class=\"colab-df-container\">\n",
              "      <div>\n",
              "<style scoped>\n",
              "    .dataframe tbody tr th:only-of-type {\n",
              "        vertical-align: middle;\n",
              "    }\n",
              "\n",
              "    .dataframe tbody tr th {\n",
              "        vertical-align: top;\n",
              "    }\n",
              "\n",
              "    .dataframe thead th {\n",
              "        text-align: right;\n",
              "    }\n",
              "</style>\n",
              "<table border=\"1\" class=\"dataframe\">\n",
              "  <thead>\n",
              "    <tr style=\"text-align: right;\">\n",
              "      <th></th>\n",
              "      <th>price_sum</th>\n",
              "    </tr>\n",
              "    <tr>\n",
              "      <th>order_purchase_timestamp</th>\n",
              "      <th></th>\n",
              "    </tr>\n",
              "  </thead>\n",
              "  <tbody>\n",
              "    <tr>\n",
              "      <th>2017-11-24</th>\n",
              "      <td>153406.22</td>\n",
              "    </tr>\n",
              "  </tbody>\n",
              "</table>\n",
              "</div>\n",
              "      <button class=\"colab-df-convert\" onclick=\"convertToInteractive('df-72654fe0-315e-4984-acf8-2c8e3ee8287b')\"\n",
              "              title=\"Convert this dataframe to an interactive table.\"\n",
              "              style=\"display:none;\">\n",
              "        \n",
              "  <svg xmlns=\"http://www.w3.org/2000/svg\" height=\"24px\"viewBox=\"0 0 24 24\"\n",
              "       width=\"24px\">\n",
              "    <path d=\"M0 0h24v24H0V0z\" fill=\"none\"/>\n",
              "    <path d=\"M18.56 5.44l.94 2.06.94-2.06 2.06-.94-2.06-.94-.94-2.06-.94 2.06-2.06.94zm-11 1L8.5 8.5l.94-2.06 2.06-.94-2.06-.94L8.5 2.5l-.94 2.06-2.06.94zm10 10l.94 2.06.94-2.06 2.06-.94-2.06-.94-.94-2.06-.94 2.06-2.06.94z\"/><path d=\"M17.41 7.96l-1.37-1.37c-.4-.4-.92-.59-1.43-.59-.52 0-1.04.2-1.43.59L10.3 9.45l-7.72 7.72c-.78.78-.78 2.05 0 2.83L4 21.41c.39.39.9.59 1.41.59.51 0 1.02-.2 1.41-.59l7.78-7.78 2.81-2.81c.8-.78.8-2.07 0-2.86zM5.41 20L4 18.59l7.72-7.72 1.47 1.35L5.41 20z\"/>\n",
              "  </svg>\n",
              "      </button>\n",
              "      \n",
              "  <style>\n",
              "    .colab-df-container {\n",
              "      display:flex;\n",
              "      flex-wrap:wrap;\n",
              "      gap: 12px;\n",
              "    }\n",
              "\n",
              "    .colab-df-convert {\n",
              "      background-color: #E8F0FE;\n",
              "      border: none;\n",
              "      border-radius: 50%;\n",
              "      cursor: pointer;\n",
              "      display: none;\n",
              "      fill: #1967D2;\n",
              "      height: 32px;\n",
              "      padding: 0 0 0 0;\n",
              "      width: 32px;\n",
              "    }\n",
              "\n",
              "    .colab-df-convert:hover {\n",
              "      background-color: #E2EBFA;\n",
              "      box-shadow: 0px 1px 2px rgba(60, 64, 67, 0.3), 0px 1px 3px 1px rgba(60, 64, 67, 0.15);\n",
              "      fill: #174EA6;\n",
              "    }\n",
              "\n",
              "    [theme=dark] .colab-df-convert {\n",
              "      background-color: #3B4455;\n",
              "      fill: #D2E3FC;\n",
              "    }\n",
              "\n",
              "    [theme=dark] .colab-df-convert:hover {\n",
              "      background-color: #434B5C;\n",
              "      box-shadow: 0px 1px 3px 1px rgba(0, 0, 0, 0.15);\n",
              "      filter: drop-shadow(0px 1px 2px rgba(0, 0, 0, 0.3));\n",
              "      fill: #FFFFFF;\n",
              "    }\n",
              "  </style>\n",
              "\n",
              "      <script>\n",
              "        const buttonEl =\n",
              "          document.querySelector('#df-72654fe0-315e-4984-acf8-2c8e3ee8287b button.colab-df-convert');\n",
              "        buttonEl.style.display =\n",
              "          google.colab.kernel.accessAllowed ? 'block' : 'none';\n",
              "\n",
              "        async function convertToInteractive(key) {\n",
              "          const element = document.querySelector('#df-72654fe0-315e-4984-acf8-2c8e3ee8287b');\n",
              "          const dataTable =\n",
              "            await google.colab.kernel.invokeFunction('convertToInteractive',\n",
              "                                                     [key], {});\n",
              "          if (!dataTable) return;\n",
              "\n",
              "          const docLinkHtml = 'Like what you see? Visit the ' +\n",
              "            '<a target=\"_blank\" href=https://colab.research.google.com/notebooks/data_table.ipynb>data table notebook</a>'\n",
              "            + ' to learn more about interactive tables.';\n",
              "          element.innerHTML = '';\n",
              "          dataTable['output_type'] = 'display_data';\n",
              "          await google.colab.output.renderOutput(dataTable, element);\n",
              "          const docLink = document.createElement('div');\n",
              "          docLink.innerHTML = docLinkHtml;\n",
              "          element.appendChild(docLink);\n",
              "        }\n",
              "      </script>\n",
              "    </div>\n",
              "  </div>\n",
              "  "
            ]
          },
          "metadata": {},
          "execution_count": 19
        }
      ]
    },
    {
      "cell_type": "code",
      "source": [
        "from statsmodels.tsa.seasonal import seasonal_decompose "
      ],
      "metadata": {
        "colab": {
          "base_uri": "https://localhost:8080/"
        },
        "id": "T9_Nnl-u_-T8",
        "outputId": "005bc0b3-c0c9-4668-977f-4321cd78dfb7"
      },
      "execution_count": null,
      "outputs": [
        {
          "output_type": "stream",
          "name": "stderr",
          "text": [
            "/usr/local/lib/python3.7/dist-packages/statsmodels/tools/_testing.py:19: FutureWarning: pandas.util.testing is deprecated. Use the functions in the public API at pandas.testing instead.\n",
            "  import pandas.util.testing as tm\n"
          ]
        }
      ]
    },
    {
      "cell_type": "code",
      "source": [
        "results=seasonal_decompose(df['price_sum'])\n",
        "results.plot();"
      ],
      "metadata": {
        "colab": {
          "base_uri": "https://localhost:8080/",
          "height": 299
        },
        "id": "x7nTVdXeADYa",
        "outputId": "917e120f-6018-4dec-f1c1-e89dc67738cc"
      },
      "execution_count": null,
      "outputs": [
        {
          "output_type": "display_data",
          "data": {
            "text/plain": [
              "<Figure size 432x288 with 4 Axes>"
            ],
            "image/png": "[encoded data removed]"
          },
          "metadata": {
            "needs_background": "light"
          }
        }
      ]
    },
    {
      "cell_type": "code",
      "source": [
        "len(df)"
      ],
      "metadata": {
        "colab": {
          "base_uri": "https://localhost:8080/"
        },
        "id": "qxLSsHK-AHCZ",
        "outputId": "ca7cc1a6-1585-41da-dcf4-ebf984c13f7a"
      },
      "execution_count": null,
      "outputs": [
        {
          "output_type": "execute_result",
          "data": {
            "text/plain": [
              "602"
            ]
          },
          "metadata": {},
          "execution_count": 22
        }
      ]
    },
    {
      "cell_type": "code",
      "source": [
        "# now we are going to split data into train and test part \n",
        "train=df.iloc[:541]\n",
        "test=df.iloc[541:]"
      ],
      "metadata": {
        "id": "EfTnhoeoAIFk"
      },
      "execution_count": null,
      "outputs": []
    },
    {
      "cell_type": "code",
      "source": [
        "from sklearn.preprocessing import MinMaxScaler \n",
        "scaler=MinMaxScaler()\n",
        "#need to convert data into 0-1 "
      ],
      "metadata": {
        "id": "H-RanyAYAJ71"
      },
      "execution_count": null,
      "outputs": []
    },
    {
      "cell_type": "code",
      "source": [
        "df.head(),df.tail()"
      ],
      "metadata": {
        "colab": {
          "base_uri": "https://localhost:8080/"
        },
        "id": "A_zsGp0PAMVF",
        "outputId": "58464607-c36a-4325-a502-6ac91dc84c72"
      },
      "execution_count": null,
      "outputs": [
        {
          "output_type": "execute_result",
          "data": {
            "text/plain": [
              "(                          price_sum\n",
              " order_purchase_timestamp           \n",
              " 2017-01-05                   396.90\n",
              " 2017-01-06                  3460.38\n",
              " 2017-01-07                  1351.90\n",
              " 2017-01-08                   449.78\n",
              " 2017-01-09                   673.79,                           price_sum\n",
              " order_purchase_timestamp           \n",
              " 2018-08-25                 10711.93\n",
              " 2018-08-26                  8295.61\n",
              " 2018-08-27                  5373.66\n",
              " 2018-08-28                  3757.51\n",
              " 2018-08-29                  1546.04)"
            ]
          },
          "metadata": {},
          "execution_count": 25
        }
      ]
    },
    {
      "cell_type": "code",
      "source": [
        "scaler.fit(train)\n",
        "scaled_train=scaler.transform(train)\n",
        "scaled_test=scaler.transform(test)"
      ],
      "metadata": {
        "id": "IqwYOoVhAQVo"
      },
      "execution_count": null,
      "outputs": []
    },
    {
      "cell_type": "code",
      "source": [
        "scaled_train[:10]"
      ],
      "metadata": {
        "colab": {
          "base_uri": "https://localhost:8080/"
        },
        "id": "PbDJBSSQARzw",
        "outputId": "0e24dce3-3c77-44b3-bb4c-2a8e4841a4cc"
      },
      "execution_count": null,
      "outputs": [
        {
          "output_type": "execute_result",
          "data": {
            "text/plain": [
              "array([[0.        ],\n",
              "       [0.02002153],\n",
              "       [0.00624145],\n",
              "       [0.0003456 ],\n",
              "       [0.00180963],\n",
              "       [0.0067837 ],\n",
              "       [0.00953125],\n",
              "       [0.00706944],\n",
              "       [0.01342258],\n",
              "       [0.00306517]])"
            ]
          },
          "metadata": {},
          "execution_count": 27
        }
      ]
    },
    {
      "cell_type": "code",
      "source": [
        "import keras\n",
        "from keras.preprocessing.sequence import TimeseriesGenerator "
      ],
      "metadata": {
        "id": "ZiSt_hAjAVZC"
      },
      "execution_count": null,
      "outputs": []
    },
    {
      "cell_type": "code",
      "source": [
        "n_input=7 \n",
        "n_features=1\n",
        "generator=TimeseriesGenerator(scaled_train,scaled_train,length=n_input,batch_size=1)\n"
      ],
      "metadata": {
        "id": "lVR_kSmmAaa2"
      },
      "execution_count": null,
      "outputs": []
    },
    {
      "cell_type": "code",
      "source": [
        "X,y=generator[0]\n",
        "print(f'Given the array: \\n{X.flatten()}')\n",
        "print(f'Predict this y: \\n {y}')"
      ],
      "metadata": {
        "colab": {
          "base_uri": "https://localhost:8080/"
        },
        "id": "5pAHjJ6gBuEi",
        "outputId": "bb12a77e-52ef-45b0-ca1c-3ecd8c66e0ed"
      },
      "execution_count": null,
      "outputs": [
        {
          "output_type": "stream",
          "name": "stdout",
          "text": [
            "Given the array: \n",
            "[0.         0.02002153 0.00624145 0.0003456  0.00180963 0.0067837\n",
            " 0.00953125]\n",
            "Predict this y: \n",
            " [[0.00706944]]\n"
          ]
        }
      ]
    },
    {
      "cell_type": "code",
      "source": [
        "X.shape"
      ],
      "metadata": {
        "colab": {
          "base_uri": "https://localhost:8080/"
        },
        "id": "27VgdYy2E81p",
        "outputId": "fad0821e-d818-49db-f955-80148664d230"
      },
      "execution_count": null,
      "outputs": [
        {
          "output_type": "execute_result",
          "data": {
            "text/plain": [
              "(1, 7, 1)"
            ]
          },
          "metadata": {},
          "execution_count": 43
        }
      ]
    },
    {
      "cell_type": "code",
      "source": [
        "from keras.models import Sequential \n",
        "from keras.layers import Dense \n",
        "from keras.layers import LSTM "
      ],
      "metadata": {
        "id": "HrLlcXPmFPsn"
      },
      "execution_count": null,
      "outputs": []
    },
    {
      "cell_type": "code",
      "source": [
        "model=Sequential()\n",
        "model.add(LSTM(100,activation='relu',input_shape=(n_input,n_features)))\n",
        "model.add(Dense(1))\n",
        "model.compile(optimizer='adam',loss='mse')"
      ],
      "metadata": {
        "id": "od33jpNmFl1N"
      },
      "execution_count": null,
      "outputs": []
    },
    {
      "cell_type": "code",
      "source": [
        "model.summary()"
      ],
      "metadata": {
        "colab": {
          "base_uri": "https://localhost:8080/"
        },
        "id": "thQKN8-uGBkN",
        "outputId": "ab28a444-ccc0-4a48-9e3e-8d8d81788548"
      },
      "execution_count": null,
      "outputs": [
        {
          "output_type": "stream",
          "name": "stdout",
          "text": [
            "Model: \"sequential\"\n",
            "_________________________________________________________________\n",
            " Layer (type)                Output Shape              Param #   \n",
            "=================================================================\n",
            " lstm (LSTM)                 (None, 100)               40800     \n",
            "                                                                 \n",
            " dense (Dense)               (None, 1)                 101       \n",
            "                                                                 \n",
            "=================================================================\n",
            "Total params: 40,901\n",
            "Trainable params: 40,901\n",
            "Non-trainable params: 0\n",
            "_________________________________________________________________\n"
          ]
        }
      ]
    },
    {
      "cell_type": "code",
      "source": [
        "model.fit(generator,epochs=50)"
      ],
      "metadata": {
        "colab": {
          "base_uri": "https://localhost:8080/"
        },
        "id": "nwVibq0rGHvF",
        "outputId": "38c131a2-d458-4bfa-a5d7-4b55ca61fdbe"
      },
      "execution_count": null,
      "outputs": [
        {
          "output_type": "stream",
          "name": "stdout",
          "text": [
            "Epoch 1/50\n",
            "534/534 [==============================] - 4s 4ms/step - loss: 0.0039\n",
            "Epoch 2/50\n",
            "534/534 [==============================] - 2s 4ms/step - loss: 0.0032\n",
            "Epoch 3/50\n",
            "534/534 [==============================] - 2s 4ms/step - loss: 0.0031\n",
            "Epoch 4/50\n",
            "534/534 [==============================] - 2s 4ms/step - loss: 0.0030\n",
            "Epoch 5/50\n",
            "534/534 [==============================] - 2s 4ms/step - loss: 0.0030\n",
            "Epoch 6/50\n",
            "534/534 [==============================] - 2s 4ms/step - loss: 0.0030\n",
            "Epoch 7/50\n",
            "534/534 [==============================] - 2s 4ms/step - loss: 0.0030\n",
            "Epoch 8/50\n",
            "534/534 [==============================] - 2s 4ms/step - loss: 0.0029\n",
            "Epoch 9/50\n",
            "534/534 [==============================] - 2s 4ms/step - loss: 0.0029\n",
            "Epoch 10/50\n",
            "534/534 [==============================] - 2s 4ms/step - loss: 0.0029\n",
            "Epoch 11/50\n",
            "534/534 [==============================] - 2s 4ms/step - loss: 0.0028\n",
            "Epoch 12/50\n",
            "534/534 [==============================] - 2s 4ms/step - loss: 0.0028\n",
            "Epoch 13/50\n",
            "534/534 [==============================] - 2s 4ms/step - loss: 0.0028\n",
            "Epoch 14/50\n",
            "534/534 [==============================] - 2s 4ms/step - loss: 0.0027\n",
            "Epoch 15/50\n",
            "534/534 [==============================] - 2s 4ms/step - loss: 0.0028\n",
            "Epoch 16/50\n",
            "534/534 [==============================] - 2s 4ms/step - loss: 0.0028\n",
            "Epoch 17/50\n",
            "534/534 [==============================] - 2s 4ms/step - loss: 0.0027\n",
            "Epoch 18/50\n",
            "534/534 [==============================] - 2s 4ms/step - loss: 0.0028\n",
            "Epoch 19/50\n",
            "534/534 [==============================] - 2s 4ms/step - loss: 0.0028\n",
            "Epoch 20/50\n",
            "534/534 [==============================] - 2s 4ms/step - loss: 0.0027\n",
            "Epoch 21/50\n",
            "534/534 [==============================] - 2s 4ms/step - loss: 0.0027\n",
            "Epoch 22/50\n",
            "534/534 [==============================] - 2s 4ms/step - loss: 0.0027\n",
            "Epoch 23/50\n",
            "534/534 [==============================] - 2s 4ms/step - loss: 0.0027\n",
            "Epoch 24/50\n",
            "534/534 [==============================] - 2s 4ms/step - loss: 0.0027\n",
            "Epoch 25/50\n",
            "534/534 [==============================] - 2s 4ms/step - loss: 0.0027\n",
            "Epoch 26/50\n",
            "534/534 [==============================] - 2s 4ms/step - loss: 0.0027\n",
            "Epoch 27/50\n",
            "534/534 [==============================] - 2s 4ms/step - loss: 0.0026\n",
            "Epoch 28/50\n",
            "534/534 [==============================] - 2s 4ms/step - loss: 0.0026\n",
            "Epoch 29/50\n",
            "534/534 [==============================] - 2s 4ms/step - loss: 0.0027\n",
            "Epoch 30/50\n",
            "534/534 [==============================] - 2s 4ms/step - loss: 0.0026\n",
            "Epoch 31/50\n",
            "534/534 [==============================] - 2s 4ms/step - loss: 0.0026\n",
            "Epoch 32/50\n",
            "534/534 [==============================] - 2s 4ms/step - loss: 0.0026\n",
            "Epoch 33/50\n",
            "534/534 [==============================] - 2s 4ms/step - loss: 0.0027\n",
            "Epoch 34/50\n",
            "534/534 [==============================] - 2s 4ms/step - loss: 0.0026\n",
            "Epoch 35/50\n",
            "534/534 [==============================] - 2s 4ms/step - loss: 0.0026\n",
            "Epoch 36/50\n",
            "534/534 [==============================] - 3s 5ms/step - loss: 0.0026\n",
            "Epoch 37/50\n",
            "534/534 [==============================] - 2s 4ms/step - loss: 0.0026\n",
            "Epoch 38/50\n",
            "534/534 [==============================] - 2s 4ms/step - loss: 0.0026\n",
            "Epoch 39/50\n",
            "534/534 [==============================] - 2s 4ms/step - loss: 0.0027\n",
            "Epoch 40/50\n",
            "534/534 [==============================] - 2s 4ms/step - loss: 0.0026\n",
            "Epoch 41/50\n",
            "534/534 [==============================] - 2s 4ms/step - loss: 0.0026\n",
            "Epoch 42/50\n",
            "534/534 [==============================] - 2s 4ms/step - loss: 0.0026\n",
            "Epoch 43/50\n",
            "534/534 [==============================] - 2s 4ms/step - loss: 0.0026\n",
            "Epoch 44/50\n",
            "534/534 [==============================] - 2s 4ms/step - loss: 0.0026\n",
            "Epoch 45/50\n",
            "534/534 [==============================] - 2s 4ms/step - loss: 0.0026\n",
            "Epoch 46/50\n",
            "534/534 [==============================] - 2s 4ms/step - loss: 0.0026\n",
            "Epoch 47/50\n",
            "534/534 [==============================] - 3s 5ms/step - loss: 0.0026\n",
            "Epoch 48/50\n",
            "534/534 [==============================] - 2s 4ms/step - loss: 0.0025\n",
            "Epoch 49/50\n",
            "534/534 [==============================] - 2s 4ms/step - loss: 0.0026\n",
            "Epoch 50/50\n",
            "534/534 [==============================] - 2s 4ms/step - loss: 0.0025\n"
          ]
        },
        {
          "output_type": "execute_result",
          "data": {
            "text/plain": [
              "<keras.callbacks.History at 0x7f35fa110810>"
            ]
          },
          "metadata": {},
          "execution_count": 47
        }
      ]
    },
    {
      "cell_type": "code",
      "source": [
        "loss_per_epoch=model.history.history['loss']\n",
        "plt.plot(range(len(loss_per_epoch)),loss_per_epoch)"
      ],
      "metadata": {
        "colab": {
          "base_uri": "https://localhost:8080/",
          "height": 284
        },
        "id": "PwUaNNyFGvPM",
        "outputId": "4861d3ff-d4c9-46ac-b05f-165efe9f4663"
      },
      "execution_count": null,
      "outputs": [
        {
          "output_type": "execute_result",
          "data": {
            "text/plain": [
              "[<matplotlib.lines.Line2D at 0x7f35f4585410>]"
            ]
          },
          "metadata": {},
          "execution_count": 48
        },
        {
          "output_type": "display_data",
          "data": {
            "text/plain": [
              "<Figure size 432x288 with 1 Axes>"
            ],
            "image/png": "[encoded data removed]"
          },
          "metadata": {
            "needs_background": "light"
          }
        }
      ]
    },
    {
      "cell_type": "code",
      "source": [
        "# now do the actual prediction \n",
        "# use last 7 days to do the prediction\n",
        "last_train_batch=scaled_train[-7:]\n"
      ],
      "metadata": {
        "id": "kytmNoCVHDLv"
      },
      "execution_count": null,
      "outputs": []
    },
    {
      "cell_type": "code",
      "source": [
        "last_train_batch=last_train_batch.reshape((1,n_input,n_features))"
      ],
      "metadata": {
        "id": "OSVkX1yGHiVD"
      },
      "execution_count": null,
      "outputs": []
    },
    {
      "cell_type": "code",
      "source": [
        ""
      ],
      "metadata": {
        "id": "sxpjJA0DKq1y"
      },
      "execution_count": null,
      "outputs": []
    },
    {
      "cell_type": "code",
      "source": [
        "model.predict(last_train_batch)"
      ],
      "metadata": {
        "colab": {
          "base_uri": "https://localhost:8080/"
        },
        "id": "grreQwbXH19l",
        "outputId": "0436d52f-3e5e-431e-9b3f-3dd427855f07"
      },
      "execution_count": null,
      "outputs": [
        {
          "output_type": "execute_result",
          "data": {
            "text/plain": [
              "array([[0.13315761]], dtype=float32)"
            ]
          },
          "metadata": {},
          "execution_count": 52
        }
      ]
    },
    {
      "cell_type": "code",
      "source": [
        "scaled_test[0]"
      ],
      "metadata": {
        "colab": {
          "base_uri": "https://localhost:8080/"
        },
        "id": "QUKxDEMdH69M",
        "outputId": "1b2dea45-a1ff-40f7-f6d8-6d361a1db8b7"
      },
      "execution_count": null,
      "outputs": [
        {
          "output_type": "execute_result",
          "data": {
            "text/plain": [
              "array([0.09754229])"
            ]
          },
          "metadata": {},
          "execution_count": 63
        }
      ]
    },
    {
      "cell_type": "code",
      "source": [
        "test_predictions=[]\n",
        "\n",
        "first_eval_batch=scaled_train[-n_input:]\n",
        "current_batch=first_eval_batch.reshape((1,n_input,n_features))\n",
        "\n",
        "for i in range(len(test)):\n",
        "  current_pred=model.predict(current_batch)[0]\n",
        "\n",
        "  test_predictions.append(current_pred)\n",
        "\n",
        "  current_batch=np.append(current_batch[:,1:,:],[[current_pred]],axis=1)"
      ],
      "metadata": {
        "id": "dO_4vIKxL7K2"
      },
      "execution_count": null,
      "outputs": []
    },
    {
      "cell_type": "code",
      "source": [
        "test_predictions"
      ],
      "metadata": {
        "colab": {
          "base_uri": "https://localhost:8080/"
        },
        "id": "G-XUH1OqMhHA",
        "outputId": "224e1d1e-5b0f-4b89-885d-1206c0ee9ce8"
      },
      "execution_count": null,
      "outputs": [
        {
          "output_type": "execute_result",
          "data": {
            "text/plain": [
              "[array([0.13315761], dtype=float32),\n",
              " array([0.14277981], dtype=float32),\n",
              " array([0.1730724], dtype=float32),\n",
              " array([0.18580261], dtype=float32),\n",
              " array([0.16516614], dtype=float32),\n",
              " array([0.16913901], dtype=float32),\n",
              " array([0.14412044], dtype=float32),\n",
              " array([0.13545406], dtype=float32),\n",
              " array([0.13442186], dtype=float32),\n",
              " array([0.14234683], dtype=float32),\n",
              " array([0.14847022], dtype=float32),\n",
              " array([0.1426737], dtype=float32),\n",
              " array([0.14114073], dtype=float32),\n",
              " array([0.13245189], dtype=float32),\n",
              " array([0.1264498], dtype=float32),\n",
              " array([0.12340607], dtype=float32),\n",
              " array([0.12374999], dtype=float32),\n",
              " array([0.12474531], dtype=float32),\n",
              " array([0.1227872], dtype=float32),\n",
              " array([0.12104929], dtype=float32),\n",
              " array([0.11751103], dtype=float32),\n",
              " array([0.11412115], dtype=float32),\n",
              " array([0.11157572], dtype=float32),\n",
              " array([0.11021677], dtype=float32),\n",
              " array([0.10944052], dtype=float32),\n",
              " array([0.10809646], dtype=float32),\n",
              " array([0.10664961], dtype=float32),\n",
              " array([0.10442798], dtype=float32),\n",
              " array([0.10204561], dtype=float32),\n",
              " array([0.09992741], dtype=float32),\n",
              " array([0.09826893], dtype=float32),\n",
              " array([0.09689057], dtype=float32),\n",
              " array([0.09545448], dtype=float32),\n",
              " array([0.0939251], dtype=float32),\n",
              " array([0.09214848], dtype=float32),\n",
              " array([0.09026849], dtype=float32),\n",
              " array([0.08848405], dtype=float32),\n",
              " array([0.0869417], dtype=float32),\n",
              " array([0.08556254], dtype=float32),\n",
              " array([0.0842624], dtype=float32),\n",
              " array([0.08297126], dtype=float32),\n",
              " array([0.08163486], dtype=float32),\n",
              " array([0.08030054], dtype=float32),\n",
              " array([0.07901811], dtype=float32),\n",
              " array([0.07783116], dtype=float32),\n",
              " array([0.07672976], dtype=float32),\n",
              " array([0.07569434], dtype=float32),\n",
              " array([0.0746962], dtype=float32),\n",
              " array([0.07371792], dtype=float32),\n",
              " array([0.07276322], dtype=float32),\n",
              " array([0.07185774], dtype=float32),\n",
              " array([0.07100526], dtype=float32),\n",
              " array([0.07020328], dtype=float32),\n",
              " array([0.06944519], dtype=float32),\n",
              " array([0.0687234], dtype=float32),\n",
              " array([0.0680293], dtype=float32),\n",
              " array([0.06736198], dtype=float32),\n",
              " array([0.06673278], dtype=float32),\n",
              " array([0.06615627], dtype=float32),\n",
              " array([0.06561823], dtype=float32),\n",
              " array([0.06511241], dtype=float32)]"
            ]
          },
          "metadata": {},
          "execution_count": 66
        }
      ]
    },
    {
      "cell_type": "code",
      "source": [
        "true_predictions=scaler.inverse_transform(test_predictions)"
      ],
      "metadata": {
        "id": "4jaqJCg5Mi25"
      },
      "execution_count": null,
      "outputs": []
    },
    {
      "cell_type": "code",
      "source": [
        "test['predictions']=true_predictions"
      ],
      "metadata": {
        "colab": {
          "base_uri": "https://localhost:8080/"
        },
        "id": "TtUTzj98My3-",
        "outputId": "6337e4cc-b64d-49b0-a234-3b1e0e13cfa9"
      },
      "execution_count": null,
      "outputs": [
        {
          "output_type": "stream",
          "name": "stderr",
          "text": [
            "/usr/local/lib/python3.7/dist-packages/ipykernel_launcher.py:1: SettingWithCopyWarning: \n",
            "A value is trying to be set on a copy of a slice from a DataFrame.\n",
            "Try using .loc[row_indexer,col_indexer] = value instead\n",
            "\n",
            "See the caveats in the documentation: https://pandas.pydata.org/pandas-docs/stable/user_guide/indexing.html#returning-a-view-versus-a-copy\n",
            "  \"\"\"Entry point for launching an IPython kernel.\n"
          ]
        }
      ]
    },
    {
      "cell_type": "code",
      "source": [
        "test.plot(figsize=(12,6))"
      ],
      "metadata": {
        "colab": {
          "base_uri": "https://localhost:8080/",
          "height": 441
        },
        "id": "Q9wfYVy2M3eb",
        "outputId": "f8e4decb-1dab-434b-e05a-fd2a9875fdea"
      },
      "execution_count": null,
      "outputs": [
        {
          "output_type": "execute_result",
          "data": {
            "text/plain": [
              "<matplotlib.axes._subplots.AxesSubplot at 0x7f35f5e39810>"
            ]
          },
          "metadata": {},
          "execution_count": 70
        },
        {
          "output_type": "display_data",
          "data": {
            "text/plain": [
              "<Figure size 864x432 with 1 Axes>"
            ],
            "image/png": "[encoded data removed]"
          },
          "metadata": {
            "needs_background": "light"
          }
        }
      ]
    },
    {
      "cell_type": "code",
      "source": [
        "from sklearn.metrics import mean_squared_error \n",
        "from math import sqrt \n",
        "rmse=sqrt(mean_squared_error(test['price_sum'],test['predictions']))\n",
        "print(rmse)"
      ],
      "metadata": {
        "colab": {
          "base_uri": "https://localhost:8080/"
        },
        "id": "SLFzTf-wM8wv",
        "outputId": "98bd0805-8b6a-4013-f208-9f92cd2caecc"
      },
      "execution_count": null,
      "outputs": [
        {
          "output_type": "stream",
          "name": "stdout",
          "text": [
            "18125.662240442864\n"
          ]
        }
      ]
    }
  ]
}